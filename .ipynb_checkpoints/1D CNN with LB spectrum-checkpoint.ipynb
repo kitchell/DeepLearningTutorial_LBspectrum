{
 "cells": [
  {
   "cell_type": "markdown",
   "metadata": {},
   "source": [
    "# 1D CNN with Laplace Beltrami Spectrum"
   ]
  },
  {
   "cell_type": "markdown",
   "metadata": {},
   "source": [
    "## Binary Classification: Males vs. Females"
   ]
  },
  {
   "cell_type": "markdown",
   "metadata": {},
   "source": [
    "Here we are going to see if we can create a 1 dimensional convolutional neural network that can classify a subject as male or female based on the shape (LB spectrum) of their white matter tracts.\n",
    "\n",
    "The initial set up will be very similar to the MLP as we want the data to remain as a 1D vector. The main changes will be the types of layers in the actual network."
   ]
  },
  {
   "cell_type": "markdown",
   "metadata": {},
   "source": [
    "### Import libraries\n",
    "First, let's import the libraries we will use."
   ]
  },
  {
   "cell_type": "code",
   "execution_count": 2,
   "metadata": {},
   "outputs": [
    {
     "name": "stderr",
     "output_type": "stream",
     "text": [
      "/home/pestillilab/anaconda2/envs/tf1.4py2.7/lib/python2.7/site-packages/h5py/__init__.py:36: FutureWarning: Conversion of the second argument of issubdtype from `float` to `np.floating` is deprecated. In future, it will be treated as `np.float64 == np.dtype(float).type`.\n",
      "  from ._conv import register_converters as _register_converters\n",
      "Using TensorFlow backend.\n"
     ]
    }
   ],
   "source": [
    "#to read in the data\n",
    "import pickle\n",
    "#for plotting, numbers etc.\n",
    "import numpy as np\n",
    "import seaborn as sns\n",
    "import matplotlib.pyplot as plt\n",
    "#for splitting the data\n",
    "from sklearn.model_selection import train_test_split\n",
    "#keras functions\n",
    "from keras.models import Sequential\n",
    "from keras.layers import Dense, Dropout, Flatten\n",
    "from keras.layers import Conv1D, GlobalAveragePooling1D, MaxPooling1D\n",
    "from keras.utils import np_utils, plot_model, to_categorical\n",
    "from keras.optimizers import Adam, RMSprop\n",
    "\n",
    "#normalize the data\n",
    "from sklearn.preprocessing import StandardScaler\n",
    "\n",
    "from sklearn.linear_model import LogisticRegressionCV "
   ]
  },
  {
   "cell_type": "markdown",
   "metadata": {},
   "source": [
    "### Import and check the data\n",
    "Now let's read in the data using pickle. The data was previously processed in python and saved down using pickle. This will be the same steps as used in the MLP notebook so I will not include as many comments"
   ]
  },
  {
   "cell_type": "code",
   "execution_count": 3,
   "metadata": {},
   "outputs": [],
   "source": [
    "# eigenvalue dictionary with entry for eact tract, 600 evs per tract\n",
    "tractev_dict_600 = pickle.load(open(\"tract_ev_dict_600.pk\",'rb'))\n",
    "# list of tracts we want to use\n",
    "tractstouse = pickle.load(open('tractstouse.pk','rb'))\n",
    "# subject list\n",
    "HCP_subj_list = pickle.load(open('HCP_subj_list.pk','rb'))\n",
    "# list of subject gender 1 = male, 2 = female\n",
    "gender_id = pickle.load(open('gender_id.pk','rb'))"
   ]
  },
  {
   "cell_type": "markdown",
   "metadata": {},
   "source": [
    "### Preprocess the data"
   ]
  },
  {
   "cell_type": "markdown",
   "metadata": {},
   "source": [
    "The eigenvalue data is already in a vector format, so we do not need to vectorize it. However, we will need to combine the vectors of all the tracts so that we have a single 1D vector per subject. \n",
    "\n",
    "We also need to normalize the data so that each set of eigenvalues has a mean of 0 and a standard deviation of 1. We will write a function to do this using sklearn's `StandardScaler` function."
   ]
  },
  {
   "cell_type": "markdown",
   "metadata": {},
   "source": [
    "**Normalize the data**"
   ]
  },
  {
   "cell_type": "code",
   "execution_count": 4,
   "metadata": {},
   "outputs": [],
   "source": [
    "def scale_ev_dict(ev_dict):\n",
    "    scaled_dict = {}\n",
    "    for tract in ev_dict.keys():\n",
    "        scaler = StandardScaler()\n",
    "        scaled_dict[tract] = scaler.fit_transform(ev_dict[tract])\n",
    "    return scaled_dict\n"
   ]
  },
  {
   "cell_type": "code",
   "execution_count": 5,
   "metadata": {},
   "outputs": [],
   "source": [
    "# normalize all of the tracts so that each ev is centered on 0.\n",
    "tractev_dict_600_scaled = scale_ev_dict(tractev_dict_600)"
   ]
  },
  {
   "cell_type": "markdown",
   "metadata": {},
   "source": [
    "**Reorganize the data**"
   ]
  },
  {
   "cell_type": "markdown",
   "metadata": {},
   "source": [
    "Currently the data is a dictionary of 2D matrices, we want to reorganize this into a single 2D matrix with the shape `(1013, n * 48)`, where 1013 is the number of subjects and n is the number of eigenvalues we are using. This is not the final shape we want for the convolutional layers, but it is the shape we want for now. It is likely that 600 eigenvalues is way more than we need, but we do not know how many eigenvalues is optimal. We will write a function to do this reorganization so we can easily try multiple amounts of eigenvalues. "
   ]
  },
  {
   "cell_type": "code",
   "execution_count": 6,
   "metadata": {},
   "outputs": [],
   "source": [
    "# change the organization to be one vector per subject with all evs for all tracts\n",
    "def reorganize_spectrums(ev_dict_scaled, numev, HCP_subj_list=HCP_subj_list, tractstouse=tractstouse):\n",
    "    # create an empty numpy array of the shape we want\n",
    "    # numev is the number of eigenvalues we want per tract\n",
    "    allsubjs_alltracts_scaled = np.zeros([len(HCP_subj_list), numev*len(tractstouse)])\n",
    "    for i in range(len(tractstouse)):\n",
    "        allsubjs_alltracts_scaled[:, i*numev:i*numev+numev] = ev_dict_scaled[tractstouse[i]][:, 0:numev]\n",
    "    return allsubjs_alltracts_scaled"
   ]
  },
  {
   "cell_type": "code",
   "execution_count": 7,
   "metadata": {},
   "outputs": [],
   "source": [
    "numev=200\n",
    "allsubjs_alltracts_scaled = reorganize_spectrums(tractev_dict_600_scaled, numev)"
   ]
  },
  {
   "cell_type": "markdown",
   "metadata": {},
   "source": [
    "**One hot encoding the labels**"
   ]
  },
  {
   "cell_type": "markdown",
   "metadata": {},
   "source": [
    "To one hot encoding these labels all we need to do is simple subtract 1 from every entry. Now 0 = male and 1 = female"
   ]
  },
  {
   "cell_type": "code",
   "execution_count": 8,
   "metadata": {},
   "outputs": [],
   "source": [
    "# one-hot encoding for the gender ID\n",
    "genderid_ohe = np.asarray(gender_id) - 1"
   ]
  },
  {
   "cell_type": "markdown",
   "metadata": {},
   "source": [
    "**Check datatype**\n",
    "\n",
    "Finally, we need to make sure all inputs are of datatype `float32`"
   ]
  },
  {
   "cell_type": "code",
   "execution_count": 9,
   "metadata": {},
   "outputs": [],
   "source": [
    "allsubjs_alltracts_scaled = allsubjs_alltracts_scaled.astype('float32')\n",
    "genderid_ohe = genderid_ohe.astype('float32')"
   ]
  },
  {
   "cell_type": "markdown",
   "metadata": {},
   "source": [
    "### Split the data\n",
    "\n",
    "The input data is now preprocessed and ready to be input into a neural network. However, we first have to split the data into training, validation, and testing sets. We do not have a ton of samples, so we will try splitting the data into 3 subsets first and then explore other cross validation options."
   ]
  },
  {
   "cell_type": "code",
   "execution_count": 10,
   "metadata": {},
   "outputs": [
    {
     "name": "stdout",
     "output_type": "stream",
     "text": [
      "810\n",
      "203\n"
     ]
    }
   ],
   "source": [
    "X = allsubjs_alltracts_scaled\n",
    "Y = genderid_ohe\n",
    "\n",
    "#first split the training/validation data from the testing data\n",
    "trainvalX, testX, trainvalY, testY = train_test_split(X, Y, train_size  = .8, test_size = .2, random_state=0)\n",
    "\n",
    "print len(trainvalX) \n",
    "print len(testX)"
   ]
  },
  {
   "cell_type": "code",
   "execution_count": 11,
   "metadata": {},
   "outputs": [
    {
     "name": "stdout",
     "output_type": "stream",
     "text": [
      "607\n",
      "203\n"
     ]
    }
   ],
   "source": [
    "#second split the validation data from the training data\n",
    "trainX, valX, trainY, valY = train_test_split(trainvalX, trainvalY, train_size  = .75, test_size = .25, random_state=0)\n",
    "\n",
    "print len(trainX)\n",
    "print len(valX)"
   ]
  },
  {
   "cell_type": "markdown",
   "metadata": {},
   "source": [
    "Now we have 3 subsets of data. Training data with 607 samples, validation data with 203 samples, and testing data with 203 samples. Again, this may be too few samples for training and if so we can employ other cross validation methods."
   ]
  },
  {
   "cell_type": "markdown",
   "metadata": {},
   "source": [
    "### Try Logistic Regression Classifier from sklearn for comparison\n",
    "\n",
    "One of the reasons we are trying deep learning with this data is to see if we can improve upon 'basic' machine learning algorithms. We have already looked at this with the MLP notebook, but let's run the classification with the logistic regression classifier again as a reminder. We will train and evaluate the training and validation splits as well as the training/val and testing splits. "
   ]
  },
  {
   "cell_type": "code",
   "execution_count": 12,
   "metadata": {},
   "outputs": [
    {
     "name": "stdout",
     "output_type": "stream",
     "text": [
      "Accuracy = 0.81\n"
     ]
    }
   ],
   "source": [
    "#train on training data\n",
    "lr = LogisticRegressionCV()\n",
    "lr.fit(trainX, trainY)\n",
    "\n",
    "#evaluate with validation data\n",
    "print(\"Accuracy = {:.2f}\".format(lr.score(valX, valY)))"
   ]
  },
  {
   "cell_type": "code",
   "execution_count": 13,
   "metadata": {},
   "outputs": [
    {
     "name": "stdout",
     "output_type": "stream",
     "text": [
      "Accuracy = 0.80\n"
     ]
    }
   ],
   "source": [
    "#train on training and validation data\n",
    "lr = LogisticRegressionCV()\n",
    "lr.fit(trainvalX, trainvalY)\n",
    "\n",
    "#evaluate with validation data\n",
    "print(\"Accuracy = {:.2f}\".format(lr.score(testX, testY)))"
   ]
  },
  {
   "cell_type": "markdown",
   "metadata": {},
   "source": [
    "### Set up the 1D CNN"
   ]
  },
  {
   "cell_type": "markdown",
   "metadata": {},
   "source": [
    "Our goal is to try and train a 1D CNN to get an accuracy value higher than 81% (for validation) or 80% (for final testing). "
   ]
  },
  {
   "cell_type": "markdown",
   "metadata": {},
   "source": [
    "As we saw before, we can plot the history of the accuracy and loss as the model trains, let's define that function here."
   ]
  },
  {
   "cell_type": "code",
   "execution_count": 14,
   "metadata": {},
   "outputs": [],
   "source": [
    "def plot_history(network_history):\n",
    "    plt.figure()\n",
    "    plt.xlabel('Epochs')\n",
    "    plt.ylabel('Loss')\n",
    "    plt.plot(network_history.history['loss'])\n",
    "    plt.plot(network_history.history['val_loss'])\n",
    "    plt.legend(['Training','Validation'])\n",
    "    \n",
    "    plt.figure()\n",
    "    plt.xlabel('Epochs')\n",
    "    plt.ylabel('Acc')\n",
    "    plt.plot(network_history.history['acc'])\n",
    "    plt.plot(network_history.history['val_acc'])\n",
    "    plt.legend(['Training','Validation'])\n",
    "    plt.show()"
   ]
  },
  {
   "cell_type": "markdown",
   "metadata": {},
   "source": [
    "### Reshape the data for CNN layers\n",
    "\n",
    "Now we need to change the shape again to be a 3D instead of a 2D array. We need each subject to have their own 2D array. The final shape will be (num subjects, num total eigenvalues, 1). \n",
    "\n",
    "If this were a sequence it would be (num samples, num timestamps, num features per timestamp). I find it helps with understanding the shape if you think about the data in terms of timestamps, even though it is not sequential data. \n",
    "\n",
    "Another way we could format the data is by splitting each tract into its own feature, rather than combining them all into one. In that case, the shape would be (num subjects, num eigenvalues per tract, num tracts). Each tract is a feature, and each eigenvalue is a timestamp. "
   ]
  },
  {
   "cell_type": "code",
   "execution_count": 15,
   "metadata": {},
   "outputs": [
    {
     "name": "stdout",
     "output_type": "stream",
     "text": [
      "(607, 9600, 1)\n",
      "(203, 9600, 1)\n",
      "(203, 9600, 1)\n"
     ]
    }
   ],
   "source": [
    "trainX = trainX.reshape(trainX.shape[0], trainX.shape[1], 1)\n",
    "print trainX.shape\n",
    "valX = valX.reshape(valX.shape[0], valX.shape[1], 1)\n",
    "print valX.shape\n",
    "testX = testX.reshape(testX.shape[0], testX.shape[1], 1)\n",
    "print testX.shape"
   ]
  },
  {
   "cell_type": "markdown",
   "metadata": {},
   "source": [
    "Let's try a simple network architecture from the 1D CNN example from Keras."
   ]
  },
  {
   "cell_type": "code",
   "execution_count": 15,
   "metadata": {},
   "outputs": [
    {
     "name": "stdout",
     "output_type": "stream",
     "text": [
      "Train on 607 samples, validate on 203 samples\n",
      "Epoch 1/20\n",
      "607/607 [==============================] - 2s 4ms/step - loss: 0.6322 - acc: 0.6442 - val_loss: 0.5807 - val_acc: 0.6847\n",
      "Epoch 2/20\n",
      "607/607 [==============================] - 1s 2ms/step - loss: 0.5960 - acc: 0.6969 - val_loss: 0.6018 - val_acc: 0.6404\n",
      "Epoch 3/20\n",
      "607/607 [==============================] - 1s 2ms/step - loss: 0.5873 - acc: 0.7068 - val_loss: 0.5357 - val_acc: 0.7340\n",
      "Epoch 4/20\n",
      "607/607 [==============================] - 1s 2ms/step - loss: 0.6137 - acc: 0.6540 - val_loss: 0.5645 - val_acc: 0.7094\n",
      "Epoch 5/20\n",
      "607/607 [==============================] - 1s 2ms/step - loss: 0.5923 - acc: 0.6722 - val_loss: 0.5597 - val_acc: 0.7044\n",
      "Epoch 6/20\n",
      "607/607 [==============================] - 1s 2ms/step - loss: 0.5914 - acc: 0.6903 - val_loss: 0.5344 - val_acc: 0.7438\n",
      "Epoch 7/20\n",
      "607/607 [==============================] - 1s 2ms/step - loss: 0.5890 - acc: 0.6985 - val_loss: 0.5449 - val_acc: 0.7488\n",
      "Epoch 8/20\n",
      "607/607 [==============================] - 1s 2ms/step - loss: 0.5828 - acc: 0.6771 - val_loss: 0.5476 - val_acc: 0.7340\n",
      "Epoch 9/20\n",
      "607/607 [==============================] - 1s 2ms/step - loss: 0.5796 - acc: 0.7133 - val_loss: 0.5224 - val_acc: 0.7537\n",
      "Epoch 10/20\n",
      "607/607 [==============================] - 1s 2ms/step - loss: 0.5998 - acc: 0.6738 - val_loss: 0.5400 - val_acc: 0.7340\n",
      "Epoch 11/20\n",
      "607/607 [==============================] - 1s 2ms/step - loss: 0.5606 - acc: 0.7068 - val_loss: 0.7342 - val_acc: 0.5813\n",
      "Epoch 12/20\n",
      "607/607 [==============================] - 1s 2ms/step - loss: 0.5750 - acc: 0.6969 - val_loss: 0.5378 - val_acc: 0.7389\n",
      "Epoch 13/20\n",
      "607/607 [==============================] - 1s 2ms/step - loss: 0.5890 - acc: 0.7117 - val_loss: 0.6735 - val_acc: 0.6010\n",
      "Epoch 14/20\n",
      "607/607 [==============================] - 1s 2ms/step - loss: 0.5709 - acc: 0.6837 - val_loss: 0.5760 - val_acc: 0.6650\n",
      "Epoch 15/20\n",
      "607/607 [==============================] - 1s 2ms/step - loss: 0.5844 - acc: 0.7018 - val_loss: 0.5137 - val_acc: 0.7537\n",
      "Epoch 16/20\n",
      "607/607 [==============================] - 1s 2ms/step - loss: 0.5889 - acc: 0.6755 - val_loss: 0.5729 - val_acc: 0.6650\n",
      "Epoch 17/20\n",
      "607/607 [==============================] - 1s 2ms/step - loss: 0.5750 - acc: 0.6952 - val_loss: 0.5247 - val_acc: 0.7586\n",
      "Epoch 18/20\n",
      "607/607 [==============================] - 1s 2ms/step - loss: 0.5547 - acc: 0.7265 - val_loss: 0.5267 - val_acc: 0.7340\n",
      "Epoch 19/20\n",
      "607/607 [==============================] - 1s 2ms/step - loss: 0.5584 - acc: 0.7183 - val_loss: 0.5452 - val_acc: 0.7094\n",
      "Epoch 20/20\n",
      "607/607 [==============================] - 1s 2ms/step - loss: 0.5756 - acc: 0.6936 - val_loss: 0.5547 - val_acc: 0.7044\n"
     ]
    },
    {
     "data": {
      "image/png": "[encoded data removed]",
      "text/plain": [
       "<matplotlib.figure.Figure at 0x7f6aa3deef50>"
      ]
     },
     "metadata": {},
     "output_type": "display_data"
    },
    {
     "data": {
      "image/png": "[encoded data removed]",
      "text/plain": [
       "<matplotlib.figure.Figure at 0x7f6aa2ff8310>"
      ]
     },
     "metadata": {},
     "output_type": "display_data"
    }
   ],
   "source": [
    "model = Sequential()\n",
    "model.add(Conv1D(64, 3, activation='relu', input_shape=(trainX.shape[1], 1)))\n",
    "model.add(Conv1D(64, 3, activation='relu'))\n",
    "model.add(MaxPooling1D(3))\n",
    "model.add(Conv1D(64, 3, activation='relu'))\n",
    "model.add(Conv1D(64, 3, activation='relu'))\n",
    "model.add(GlobalAveragePooling1D())\n",
    "model.add(Dropout(.5))\n",
    "model.add(Dense(1, activation='sigmoid'))\n",
    "    \n",
    "model.compile(optimizer='rmsprop', loss='binary_crossentropy', metrics=['accuracy'])\n",
    "\n",
    "history = model.fit(trainX, trainY, epochs=20, batch_size=10, validation_data=(valX, valY))\n",
    "\n",
    "plot_history(history)\n"
   ]
  },
  {
   "cell_type": "markdown",
   "metadata": {},
   "source": [
    "The best accuracy was 75%, which is not bad, but we can see some weird behavior around 10 and 12 epochs. The accuracy drops significantly, maybe due to the drop out?\n",
    "\n",
    "Let's make a function to make and fit the model so we can manually tune some of the parameters."
   ]
  },
  {
   "cell_type": "code",
   "execution_count": 36,
   "metadata": {},
   "outputs": [],
   "source": [
    "# hidden_units = 64\n",
    "# kernel_size = 3\n",
    "# dropout = .5\n",
    "# optim = 'adam'\n",
    "# epochs = 20\n",
    "# batch = 10\n",
    "\n",
    "def make_model(hidden_units, kernel_size, dropout, optim, epochs, batch):\n",
    "    model = Sequential()\n",
    "    model.add(Conv1D(hidden_units, kernel_size, activation='relu', input_shape=(trainX.shape[1], 1)))\n",
    "    model.add(Conv1D(hidden_units, kernel_size, activation='relu'))\n",
    "    model.add(MaxPooling1D(kernel_size))\n",
    "    model.add(Conv1D(hidden_units, kernel_size, activation='relu'))\n",
    "    model.add(Conv1D(hidden_units, kernel_size, activation='relu'))\n",
    "    model.add(GlobalAveragePooling1D())\n",
    "    model.add(Dropout(dropout))\n",
    "    model.add(Dense(1, activation='sigmoid'))\n",
    "\n",
    "    model.compile(optimizer=optim, loss='binary_crossentropy', metrics=['accuracy'])\n",
    "\n",
    "    history = model.fit(trainX, trainY, epochs=epochs, batch_size=batch, validation_data=(valX, valY))\n",
    "\n",
    "    plot_history(history)"
   ]
  },
  {
   "cell_type": "markdown",
   "metadata": {},
   "source": [
    "Let's try increasing the number of hidden units, reducing dropout, as well as adjusting the learning rate of the optimizer. "
   ]
  },
  {
   "cell_type": "code",
   "execution_count": 18,
   "metadata": {},
   "outputs": [
    {
     "name": "stdout",
     "output_type": "stream",
     "text": [
      "Train on 607 samples, validate on 203 samples\n",
      "Epoch 1/40\n",
      "607/607 [==============================] - 4s 7ms/step - loss: 0.6905 - acc: 0.5997 - val_loss: 0.6894 - val_acc: 0.4975\n",
      "Epoch 2/40\n",
      "607/607 [==============================] - 4s 6ms/step - loss: 0.6848 - acc: 0.5667 - val_loss: 0.6853 - val_acc: 0.5074\n",
      "Epoch 3/40\n",
      "607/607 [==============================] - 4s 6ms/step - loss: 0.6785 - acc: 0.5717 - val_loss: 0.6807 - val_acc: 0.5074\n",
      "Epoch 4/40\n",
      "607/607 [==============================] - 4s 6ms/step - loss: 0.6711 - acc: 0.5832 - val_loss: 0.6753 - val_acc: 0.5222\n",
      "Epoch 5/40\n",
      "607/607 [==============================] - 4s 6ms/step - loss: 0.6642 - acc: 0.5750 - val_loss: 0.6696 - val_acc: 0.5222\n",
      "Epoch 6/40\n",
      "607/607 [==============================] - 4s 6ms/step - loss: 0.6564 - acc: 0.5799 - val_loss: 0.6630 - val_acc: 0.5517\n",
      "Epoch 7/40\n",
      "607/607 [==============================] - 4s 6ms/step - loss: 0.6479 - acc: 0.6063 - val_loss: 0.6526 - val_acc: 0.5961\n",
      "Epoch 8/40\n",
      "607/607 [==============================] - 4s 6ms/step - loss: 0.6388 - acc: 0.6442 - val_loss: 0.6418 - val_acc: 0.6207\n",
      "Epoch 9/40\n",
      "607/607 [==============================] - 4s 6ms/step - loss: 0.6295 - acc: 0.6738 - val_loss: 0.6278 - val_acc: 0.6552\n",
      "Epoch 10/40\n",
      "607/607 [==============================] - 4s 6ms/step - loss: 0.6169 - acc: 0.7051 - val_loss: 0.6143 - val_acc: 0.6897\n",
      "Epoch 11/40\n",
      "607/607 [==============================] - 4s 6ms/step - loss: 0.6071 - acc: 0.6853 - val_loss: 0.6016 - val_acc: 0.7143\n",
      "Epoch 12/40\n",
      "607/607 [==============================] - 4s 6ms/step - loss: 0.5997 - acc: 0.6985 - val_loss: 0.5911 - val_acc: 0.7192\n",
      "Epoch 13/40\n",
      "607/607 [==============================] - 4s 6ms/step - loss: 0.5880 - acc: 0.7068 - val_loss: 0.5789 - val_acc: 0.7192\n",
      "Epoch 14/40\n",
      "607/607 [==============================] - 4s 6ms/step - loss: 0.5759 - acc: 0.7100 - val_loss: 0.5685 - val_acc: 0.7241\n",
      "Epoch 15/40\n",
      "607/607 [==============================] - 4s 6ms/step - loss: 0.5714 - acc: 0.7035 - val_loss: 0.5579 - val_acc: 0.7340\n",
      "Epoch 16/40\n",
      "607/607 [==============================] - 4s 6ms/step - loss: 0.5677 - acc: 0.7084 - val_loss: 0.5514 - val_acc: 0.7340\n",
      "Epoch 17/40\n",
      "607/607 [==============================] - 4s 6ms/step - loss: 0.5624 - acc: 0.7183 - val_loss: 0.5440 - val_acc: 0.7340\n",
      "Epoch 18/40\n",
      "607/607 [==============================] - 4s 6ms/step - loss: 0.5559 - acc: 0.7117 - val_loss: 0.5420 - val_acc: 0.7291\n",
      "Epoch 19/40\n",
      "607/607 [==============================] - 4s 6ms/step - loss: 0.5558 - acc: 0.7166 - val_loss: 0.5360 - val_acc: 0.7340\n",
      "Epoch 20/40\n",
      "607/607 [==============================] - 4s 6ms/step - loss: 0.5558 - acc: 0.6919 - val_loss: 0.5311 - val_acc: 0.7340\n",
      "Epoch 21/40\n",
      "607/607 [==============================] - 4s 6ms/step - loss: 0.5487 - acc: 0.7199 - val_loss: 0.5302 - val_acc: 0.7340\n",
      "Epoch 22/40\n",
      "607/607 [==============================] - 4s 6ms/step - loss: 0.5498 - acc: 0.7051 - val_loss: 0.5267 - val_acc: 0.7291\n",
      "Epoch 23/40\n",
      "607/607 [==============================] - 4s 6ms/step - loss: 0.5460 - acc: 0.7117 - val_loss: 0.5247 - val_acc: 0.7291\n",
      "Epoch 24/40\n",
      "607/607 [==============================] - 4s 6ms/step - loss: 0.5412 - acc: 0.7100 - val_loss: 0.5232 - val_acc: 0.7291\n",
      "Epoch 25/40\n",
      "607/607 [==============================] - 4s 6ms/step - loss: 0.5444 - acc: 0.7133 - val_loss: 0.5220 - val_acc: 0.7340\n",
      "Epoch 26/40\n",
      "607/607 [==============================] - 4s 6ms/step - loss: 0.5460 - acc: 0.7133 - val_loss: 0.5219 - val_acc: 0.7389\n",
      "Epoch 27/40\n",
      "607/607 [==============================] - 4s 6ms/step - loss: 0.5396 - acc: 0.7183 - val_loss: 0.5186 - val_acc: 0.7340\n",
      "Epoch 28/40\n",
      "607/607 [==============================] - 4s 6ms/step - loss: 0.5472 - acc: 0.6985 - val_loss: 0.5184 - val_acc: 0.7291\n",
      "Epoch 29/40\n",
      "607/607 [==============================] - 4s 6ms/step - loss: 0.5412 - acc: 0.7199 - val_loss: 0.5196 - val_acc: 0.7340\n",
      "Epoch 30/40\n",
      "607/607 [==============================] - 4s 6ms/step - loss: 0.5371 - acc: 0.7166 - val_loss: 0.5154 - val_acc: 0.7438\n",
      "Epoch 31/40\n",
      "607/607 [==============================] - 4s 6ms/step - loss: 0.5415 - acc: 0.7117 - val_loss: 0.5163 - val_acc: 0.7291\n",
      "Epoch 32/40\n",
      "607/607 [==============================] - 4s 6ms/step - loss: 0.5419 - acc: 0.7100 - val_loss: 0.5162 - val_acc: 0.7291\n",
      "Epoch 33/40\n",
      "607/607 [==============================] - 4s 6ms/step - loss: 0.5412 - acc: 0.7150 - val_loss: 0.5196 - val_acc: 0.7340\n",
      "Epoch 34/40\n",
      "607/607 [==============================] - 4s 6ms/step - loss: 0.5441 - acc: 0.7216 - val_loss: 0.5136 - val_acc: 0.7438\n",
      "Epoch 35/40\n",
      "607/607 [==============================] - 4s 6ms/step - loss: 0.5450 - acc: 0.7183 - val_loss: 0.5186 - val_acc: 0.7340\n",
      "Epoch 36/40\n",
      "607/607 [==============================] - 4s 6ms/step - loss: 0.5407 - acc: 0.7117 - val_loss: 0.5156 - val_acc: 0.7291\n",
      "Epoch 37/40\n",
      "607/607 [==============================] - 4s 6ms/step - loss: 0.5426 - acc: 0.7117 - val_loss: 0.5194 - val_acc: 0.7389\n",
      "Epoch 38/40\n",
      "607/607 [==============================] - 4s 6ms/step - loss: 0.5427 - acc: 0.7183 - val_loss: 0.5134 - val_acc: 0.7438\n",
      "Epoch 39/40\n",
      "607/607 [==============================] - 4s 6ms/step - loss: 0.5383 - acc: 0.7183 - val_loss: 0.5156 - val_acc: 0.7340\n",
      "Epoch 40/40\n",
      "607/607 [==============================] - 4s 6ms/step - loss: 0.5436 - acc: 0.7150 - val_loss: 0.5114 - val_acc: 0.7438\n"
     ]
    },
    {
     "data": {
      "image/png": "[encoded data removed]",
      "text/plain": [
       "<matplotlib.figure.Figure at 0x7f6a640a6990>"
      ]
     },
     "metadata": {},
     "output_type": "display_data"
    },
    {
     "data": {
      "image/png": "[encoded data removed]",
      "text/plain": [
       "<matplotlib.figure.Figure at 0x7f6830236750>"
      ]
     },
     "metadata": {},
     "output_type": "display_data"
    }
   ],
   "source": [
    "hidden_units = 200\n",
    "kernel_size = 3\n",
    "dropout = .1\n",
    "optim = Adam(lr=0.00001)\n",
    "epochs = 40\n",
    "batch = 10\n",
    "make_model(hidden_units, kernel_size, dropout, optim, epochs, batch)"
   ]
  },
  {
   "cell_type": "markdown",
   "metadata": {},
   "source": [
    "After trying a few different combinations of paramters, we can't seem to do better than 75%. We may need to change the model architecture. \n",
    "\n",
    "Let's also try adding regularization. "
   ]
  },
  {
   "cell_type": "code",
   "execution_count": 16,
   "metadata": {},
   "outputs": [],
   "source": [
    "from keras import backend as K\n",
    "import gc"
   ]
  },
  {
   "cell_type": "code",
   "execution_count": 17,
   "metadata": {},
   "outputs": [
    {
     "data": {
      "text/plain": [
       "10"
      ]
     },
     "execution_count": 17,
     "metadata": {},
     "output_type": "execute_result"
    }
   ],
   "source": [
    "#sometimes python does not release memory very well on its own, these help clear memory\n",
    "K.clear_session()\n",
    "gc.collect()"
   ]
  },
  {
   "cell_type": "code",
   "execution_count": 18,
   "metadata": {},
   "outputs": [],
   "source": [
    "from keras.regularizers import l1, l2, l1_l2"
   ]
  },
  {
   "cell_type": "markdown",
   "metadata": {},
   "source": [
    "It may be that the global pooling layer is reducing the data too much. Let's try removing that layer. If we do not have a global pooling layer, we need to insert a **Flatten** layer to flatten the convolutional output into a shape the final dense layer can read."
   ]
  },
  {
   "cell_type": "code",
   "execution_count": 21,
   "metadata": {},
   "outputs": [
    {
     "name": "stdout",
     "output_type": "stream",
     "text": [
      "Train on 607 samples, validate on 203 samples\n",
      "Epoch 1/40\n",
      "607/607 [==============================] - 2s 3ms/step - loss: 31.1056 - acc: 0.5651 - val_loss: 29.9435 - val_acc: 0.5862\n",
      "Epoch 2/40\n",
      "607/607 [==============================] - 1s 2ms/step - loss: 29.0248 - acc: 0.6557 - val_loss: 28.0210 - val_acc: 0.6798\n",
      "Epoch 3/40\n",
      "607/607 [==============================] - 1s 2ms/step - loss: 27.1476 - acc: 0.7199 - val_loss: 26.2018 - val_acc: 0.6798\n",
      "Epoch 4/40\n",
      "607/607 [==============================] - 1s 2ms/step - loss: 25.3655 - acc: 0.7512 - val_loss: 24.4291 - val_acc: 0.7882\n",
      "Epoch 5/40\n",
      "607/607 [==============================] - 1s 2ms/step - loss: 23.6510 - acc: 0.7776 - val_loss: 22.8032 - val_acc: 0.7340\n",
      "Epoch 6/40\n",
      "607/607 [==============================] - 1s 2ms/step - loss: 22.0358 - acc: 0.7710 - val_loss: 21.1986 - val_acc: 0.8030\n",
      "Epoch 7/40\n",
      "607/607 [==============================] - 1s 2ms/step - loss: 20.4988 - acc: 0.8072 - val_loss: 19.6915 - val_acc: 0.8128\n",
      "Epoch 8/40\n",
      "607/607 [==============================] - 1s 2ms/step - loss: 19.0269 - acc: 0.8105 - val_loss: 18.2608 - val_acc: 0.8128\n",
      "Epoch 9/40\n",
      "607/607 [==============================] - 1s 2ms/step - loss: 17.6351 - acc: 0.7891 - val_loss: 16.9136 - val_acc: 0.8030\n",
      "Epoch 10/40\n",
      "607/607 [==============================] - 1s 2ms/step - loss: 16.2712 - acc: 0.8072 - val_loss: 15.6196 - val_acc: 0.7980\n",
      "Epoch 11/40\n",
      "607/607 [==============================] - 1s 2ms/step - loss: 14.9954 - acc: 0.8056 - val_loss: 14.3916 - val_acc: 0.7685\n",
      "Epoch 12/40\n",
      "607/607 [==============================] - 1s 2ms/step - loss: 13.7782 - acc: 0.8138 - val_loss: 13.1526 - val_acc: 0.8227\n",
      "Epoch 13/40\n",
      "607/607 [==============================] - 1s 2ms/step - loss: 12.6024 - acc: 0.8254 - val_loss: 12.0168 - val_acc: 0.8276\n",
      "Epoch 14/40\n",
      "607/607 [==============================] - 1s 2ms/step - loss: 11.4909 - acc: 0.8303 - val_loss: 10.9356 - val_acc: 0.8177\n",
      "Epoch 15/40\n",
      "607/607 [==============================] - 1s 2ms/step - loss: 10.4289 - acc: 0.8303 - val_loss: 9.9127 - val_acc: 0.8227\n",
      "Epoch 16/40\n",
      "607/607 [==============================] - 1s 2ms/step - loss: 9.4430 - acc: 0.8320 - val_loss: 8.9646 - val_acc: 0.8325\n",
      "Epoch 17/40\n",
      "607/607 [==============================] - 1s 2ms/step - loss: 8.5089 - acc: 0.8402 - val_loss: 8.0554 - val_acc: 0.8325\n",
      "Epoch 18/40\n",
      "607/607 [==============================] - 1s 2ms/step - loss: 7.6222 - acc: 0.8353 - val_loss: 7.2021 - val_acc: 0.8374\n",
      "Epoch 19/40\n",
      "607/607 [==============================] - 1s 2ms/step - loss: 6.7967 - acc: 0.8369 - val_loss: 6.4858 - val_acc: 0.7586\n",
      "Epoch 20/40\n",
      "607/607 [==============================] - 1s 2ms/step - loss: 6.0377 - acc: 0.8369 - val_loss: 5.6903 - val_acc: 0.8227\n",
      "Epoch 21/40\n",
      "607/607 [==============================] - 1s 2ms/step - loss: 5.3346 - acc: 0.8386 - val_loss: 5.0154 - val_acc: 0.8325\n",
      "Epoch 22/40\n",
      "607/607 [==============================] - 1s 2ms/step - loss: 4.6838 - acc: 0.8435 - val_loss: 4.3954 - val_acc: 0.8325\n",
      "Epoch 23/40\n",
      "607/607 [==============================] - 1s 2ms/step - loss: 4.0931 - acc: 0.8402 - val_loss: 3.8404 - val_acc: 0.8325\n",
      "Epoch 24/40\n",
      "607/607 [==============================] - 1s 2ms/step - loss: 3.5605 - acc: 0.8386 - val_loss: 3.3591 - val_acc: 0.8030\n",
      "Epoch 25/40\n",
      "607/607 [==============================] - 1s 2ms/step - loss: 3.0718 - acc: 0.8386 - val_loss: 2.8826 - val_acc: 0.8276\n",
      "Epoch 26/40\n",
      "607/607 [==============================] - 1s 2ms/step - loss: 2.6362 - acc: 0.8501 - val_loss: 2.4767 - val_acc: 0.8276\n",
      "Epoch 27/40\n",
      "607/607 [==============================] - 1s 2ms/step - loss: 2.2626 - acc: 0.8567 - val_loss: 2.1281 - val_acc: 0.8374\n",
      "Epoch 28/40\n",
      "607/607 [==============================] - 1s 2ms/step - loss: 1.9422 - acc: 0.8386 - val_loss: 1.8511 - val_acc: 0.8128\n",
      "Epoch 29/40\n",
      "607/607 [==============================] - 1s 2ms/step - loss: 1.6909 - acc: 0.8468 - val_loss: 1.6142 - val_acc: 0.8424\n",
      "Epoch 30/40\n",
      "607/607 [==============================] - 1s 2ms/step - loss: 1.4860 - acc: 0.8468 - val_loss: 1.4336 - val_acc: 0.8276\n",
      "Epoch 31/40\n",
      "607/607 [==============================] - 1s 2ms/step - loss: 1.3357 - acc: 0.8484 - val_loss: 1.3316 - val_acc: 0.8128\n",
      "Epoch 32/40\n",
      "607/607 [==============================] - 1s 2ms/step - loss: 1.2306 - acc: 0.8451 - val_loss: 1.2639 - val_acc: 0.8030\n",
      "Epoch 33/40\n",
      "607/607 [==============================] - 1s 2ms/step - loss: 1.1518 - acc: 0.8484 - val_loss: 1.2058 - val_acc: 0.7882\n",
      "Epoch 34/40\n",
      "607/607 [==============================] - 1s 2ms/step - loss: 1.0919 - acc: 0.8468 - val_loss: 1.1148 - val_acc: 0.8276\n",
      "Epoch 35/40\n",
      "607/607 [==============================] - 1s 2ms/step - loss: 1.0397 - acc: 0.8550 - val_loss: 1.0756 - val_acc: 0.8276\n",
      "Epoch 36/40\n",
      "607/607 [==============================] - 1s 2ms/step - loss: 1.0008 - acc: 0.8517 - val_loss: 1.0376 - val_acc: 0.8325\n",
      "Epoch 37/40\n",
      "607/607 [==============================] - 1s 2ms/step - loss: 0.9679 - acc: 0.8418 - val_loss: 1.0206 - val_acc: 0.8079\n",
      "Epoch 38/40\n",
      "607/607 [==============================] - 1s 2ms/step - loss: 0.9353 - acc: 0.8468 - val_loss: 1.0060 - val_acc: 0.7882\n",
      "Epoch 39/40\n",
      "607/607 [==============================] - 1s 2ms/step - loss: 0.9038 - acc: 0.8781 - val_loss: 0.9503 - val_acc: 0.8325\n",
      "Epoch 40/40\n",
      "607/607 [==============================] - 1s 2ms/step - loss: 0.8888 - acc: 0.8567 - val_loss: 0.9332 - val_acc: 0.8227\n"
     ]
    },
    {
     "data": {
      "image/png": "[encoded data removed]",
      "text/plain": [
       "<matplotlib.figure.Figure at 0x7f3fa019f450>"
      ]
     },
     "metadata": {},
     "output_type": "display_data"
    },
    {
     "data": {
      "image/png": "[encoded data removed]",
      "text/plain": [
       "<matplotlib.figure.Figure at 0x7f3f90777c10>"
      ]
     },
     "metadata": {},
     "output_type": "display_data"
    }
   ],
   "source": [
    "hidden_units = 64\n",
    "kernel_size = 5\n",
    "dropout = .7\n",
    "optim = RMSprop(lr=0.0001)\n",
    "epochs = 40\n",
    "batch = 20\n",
    "\n",
    "model = Sequential()\n",
    "model.add(Conv1D(hidden_units, kernel_size, activation='relu', input_shape=(trainX.shape[1], 1), kernel_regularizer=l1_l2(.01)))\n",
    "model.add(Conv1D(hidden_units, kernel_size, activation='relu', kernel_regularizer=l1_l2(.01)))\n",
    "model.add(MaxPooling1D(kernel_size))\n",
    "model.add(Dropout(dropout))\n",
    "model.add(Conv1D(hidden_units, kernel_size, activation='relu', kernel_regularizer=l1_l2(.01)))\n",
    "model.add(Conv1D(hidden_units, kernel_size, activation='relu', kernel_regularizer=l1_l2(.01)))\n",
    "# model.add(GlobalAveragePooling1D())\n",
    "model.add(Dropout(dropout))\n",
    "model.add(Flatten())\n",
    "model.add(Dense(1, activation='sigmoid'))\n",
    "\n",
    "model.compile(optimizer=optim, loss='binary_crossentropy', metrics=['accuracy'])\n",
    "\n",
    "history = model.fit(trainX, trainY, epochs=epochs, batch_size=batch, validation_data=(valX, valY))\n",
    "\n",
    "plot_history(history)"
   ]
  },
  {
   "cell_type": "code",
   "execution_count": 55,
   "metadata": {},
   "outputs": [
    {
     "name": "stdout",
     "output_type": "stream",
     "text": [
      "Train on 607 samples, validate on 203 samples\n",
      "Epoch 1/60\n",
      "607/607 [==============================] - 4s 7ms/step - loss: 8.0603 - acc: 0.5453 - val_loss: 7.8564 - val_acc: 0.5222\n",
      "Epoch 2/60\n",
      "607/607 [==============================] - 2s 3ms/step - loss: 7.6691 - acc: 0.6326 - val_loss: 7.4812 - val_acc: 0.6798\n",
      "Epoch 3/60\n",
      "607/607 [==============================] - 2s 3ms/step - loss: 7.2724 - acc: 0.6969 - val_loss: 7.1241 - val_acc: 0.6355\n",
      "Epoch 4/60\n",
      "607/607 [==============================] - 2s 3ms/step - loss: 6.8969 - acc: 0.7529 - val_loss: 6.7389 - val_acc: 0.7488\n",
      "Epoch 5/60\n",
      "607/607 [==============================] - 2s 3ms/step - loss: 6.5494 - acc: 0.7809 - val_loss: 6.4391 - val_acc: 0.7143\n",
      "Epoch 6/60\n",
      "607/607 [==============================] - 2s 3ms/step - loss: 6.2346 - acc: 0.7924 - val_loss: 6.1224 - val_acc: 0.7586\n",
      "Epoch 7/60\n",
      "607/607 [==============================] - 2s 3ms/step - loss: 5.9385 - acc: 0.8221 - val_loss: 5.8495 - val_acc: 0.7685\n",
      "Epoch 8/60\n",
      "607/607 [==============================] - 2s 3ms/step - loss: 5.6625 - acc: 0.8188 - val_loss: 5.6116 - val_acc: 0.7389\n",
      "Epoch 9/60\n",
      "607/607 [==============================] - 2s 3ms/step - loss: 5.3821 - acc: 0.8386 - val_loss: 5.3350 - val_acc: 0.7931\n",
      "Epoch 10/60\n",
      "607/607 [==============================] - 2s 3ms/step - loss: 5.1352 - acc: 0.8451 - val_loss: 5.1096 - val_acc: 0.7980\n",
      "Epoch 11/60\n",
      "607/607 [==============================] - 2s 3ms/step - loss: 4.8966 - acc: 0.8501 - val_loss: 4.8514 - val_acc: 0.8030\n",
      "Epoch 12/60\n",
      "607/607 [==============================] - 2s 3ms/step - loss: 4.6566 - acc: 0.8468 - val_loss: 4.6384 - val_acc: 0.7980\n",
      "Epoch 13/60\n",
      "607/607 [==============================] - 2s 3ms/step - loss: 4.4584 - acc: 0.8484 - val_loss: 4.4437 - val_acc: 0.8128\n",
      "Epoch 14/60\n",
      "607/607 [==============================] - 2s 3ms/step - loss: 4.2331 - acc: 0.8682 - val_loss: 4.2605 - val_acc: 0.7980\n",
      "Epoch 15/60\n",
      "607/607 [==============================] - 2s 3ms/step - loss: 4.0193 - acc: 0.8814 - val_loss: 4.0683 - val_acc: 0.7931\n",
      "Epoch 16/60\n",
      "607/607 [==============================] - 2s 3ms/step - loss: 3.8279 - acc: 0.8830 - val_loss: 3.9102 - val_acc: 0.7882\n",
      "Epoch 17/60\n",
      "607/607 [==============================] - 2s 3ms/step - loss: 3.6712 - acc: 0.8913 - val_loss: 3.7196 - val_acc: 0.7882\n",
      "Epoch 18/60\n",
      "607/607 [==============================] - 2s 3ms/step - loss: 3.4956 - acc: 0.8699 - val_loss: 3.5473 - val_acc: 0.8177\n",
      "Epoch 19/60\n",
      "607/607 [==============================] - 2s 3ms/step - loss: 3.3191 - acc: 0.9061 - val_loss: 3.3898 - val_acc: 0.8128\n",
      "Epoch 20/60\n",
      "607/607 [==============================] - 2s 3ms/step - loss: 3.1759 - acc: 0.8880 - val_loss: 3.2512 - val_acc: 0.8128\n",
      "Epoch 21/60\n",
      "607/607 [==============================] - 2s 3ms/step - loss: 3.0291 - acc: 0.8896 - val_loss: 3.1010 - val_acc: 0.8227\n",
      "Epoch 22/60\n",
      "607/607 [==============================] - 2s 3ms/step - loss: 2.9125 - acc: 0.8682 - val_loss: 2.9792 - val_acc: 0.8128\n",
      "Epoch 23/60\n",
      "607/607 [==============================] - 2s 3ms/step - loss: 2.7530 - acc: 0.8797 - val_loss: 2.8361 - val_acc: 0.8325\n",
      "Epoch 24/60\n",
      "607/607 [==============================] - 2s 3ms/step - loss: 2.6160 - acc: 0.9028 - val_loss: 2.8300 - val_acc: 0.7586\n",
      "Epoch 25/60\n",
      "607/607 [==============================] - 2s 3ms/step - loss: 2.5159 - acc: 0.8814 - val_loss: 2.6059 - val_acc: 0.8424\n",
      "Epoch 26/60\n",
      "607/607 [==============================] - 2s 3ms/step - loss: 2.4028 - acc: 0.8896 - val_loss: 2.5214 - val_acc: 0.8177\n",
      "Epoch 27/60\n",
      "607/607 [==============================] - 2s 3ms/step - loss: 2.2761 - acc: 0.9209 - val_loss: 2.4330 - val_acc: 0.8128\n",
      "Epoch 28/60\n",
      "607/607 [==============================] - 2s 3ms/step - loss: 2.1865 - acc: 0.9028 - val_loss: 2.3546 - val_acc: 0.8079\n",
      "Epoch 29/60\n",
      "607/607 [==============================] - 2s 3ms/step - loss: 2.1013 - acc: 0.8929 - val_loss: 2.2334 - val_acc: 0.8276\n",
      "Epoch 30/60\n",
      "607/607 [==============================] - 2s 3ms/step - loss: 1.9773 - acc: 0.9077 - val_loss: 2.1439 - val_acc: 0.8276\n",
      "Epoch 31/60\n",
      "607/607 [==============================] - 2s 3ms/step - loss: 1.8814 - acc: 0.9143 - val_loss: 2.0625 - val_acc: 0.8276\n",
      "Epoch 32/60\n",
      "607/607 [==============================] - 2s 3ms/step - loss: 1.8186 - acc: 0.8995 - val_loss: 2.0239 - val_acc: 0.8128\n",
      "Epoch 33/60\n",
      "607/607 [==============================] - 2s 3ms/step - loss: 1.7302 - acc: 0.9160 - val_loss: 1.9028 - val_acc: 0.8325\n",
      "Epoch 34/60\n",
      "607/607 [==============================] - 2s 3ms/step - loss: 1.6631 - acc: 0.9242 - val_loss: 1.8665 - val_acc: 0.8128\n",
      "Epoch 35/60\n",
      "607/607 [==============================] - 2s 3ms/step - loss: 1.6006 - acc: 0.9094 - val_loss: 1.7649 - val_acc: 0.8276\n",
      "Epoch 36/60\n",
      "607/607 [==============================] - 2s 3ms/step - loss: 1.5069 - acc: 0.9226 - val_loss: 1.7601 - val_acc: 0.8079\n",
      "Epoch 37/60\n",
      "607/607 [==============================] - 2s 3ms/step - loss: 1.4397 - acc: 0.9440 - val_loss: 1.6976 - val_acc: 0.8079\n",
      "Epoch 38/60\n",
      "607/607 [==============================] - 2s 3ms/step - loss: 1.3897 - acc: 0.9176 - val_loss: 1.6291 - val_acc: 0.8128\n",
      "Epoch 39/60\n",
      "607/607 [==============================] - 2s 3ms/step - loss: 1.3325 - acc: 0.9275 - val_loss: 1.5765 - val_acc: 0.8128\n",
      "Epoch 40/60\n",
      "607/607 [==============================] - 2s 3ms/step - loss: 1.2809 - acc: 0.9193 - val_loss: 1.5463 - val_acc: 0.8227\n",
      "Epoch 41/60\n",
      "607/607 [==============================] - 2s 3ms/step - loss: 1.2507 - acc: 0.9110 - val_loss: 1.4836 - val_acc: 0.8128\n",
      "Epoch 42/60\n",
      "607/607 [==============================] - 2s 3ms/step - loss: 1.1877 - acc: 0.9259 - val_loss: 1.4626 - val_acc: 0.8128\n",
      "Epoch 43/60\n",
      "607/607 [==============================] - 2s 3ms/step - loss: 1.1382 - acc: 0.9325 - val_loss: 1.4179 - val_acc: 0.8177\n",
      "Epoch 44/60\n",
      "607/607 [==============================] - 2s 3ms/step - loss: 1.1129 - acc: 0.9242 - val_loss: 1.3626 - val_acc: 0.8030\n",
      "Epoch 45/60\n",
      "607/607 [==============================] - 2s 3ms/step - loss: 1.0873 - acc: 0.9094 - val_loss: 1.3690 - val_acc: 0.8079\n",
      "Epoch 46/60\n",
      "607/607 [==============================] - 2s 3ms/step - loss: 1.0264 - acc: 0.9374 - val_loss: 1.3208 - val_acc: 0.8030\n",
      "Epoch 47/60\n",
      "607/607 [==============================] - 2s 3ms/step - loss: 1.0093 - acc: 0.9242 - val_loss: 1.2553 - val_acc: 0.8177\n",
      "Epoch 48/60\n",
      "607/607 [==============================] - 2s 3ms/step - loss: 0.9624 - acc: 0.9374 - val_loss: 1.2395 - val_acc: 0.7931\n",
      "Epoch 49/60\n",
      "607/607 [==============================] - 2s 3ms/step - loss: 0.9141 - acc: 0.9390 - val_loss: 1.2757 - val_acc: 0.7931\n",
      "Epoch 50/60\n",
      "607/607 [==============================] - 2s 3ms/step - loss: 0.8976 - acc: 0.9357 - val_loss: 1.1818 - val_acc: 0.8079\n",
      "Epoch 51/60\n",
      "607/607 [==============================] - 2s 3ms/step - loss: 0.8622 - acc: 0.9374 - val_loss: 1.1626 - val_acc: 0.8079\n",
      "Epoch 52/60\n",
      "607/607 [==============================] - 2s 3ms/step - loss: 0.8452 - acc: 0.9292 - val_loss: 1.1439 - val_acc: 0.8079\n",
      "Epoch 53/60\n",
      "607/607 [==============================] - 2s 3ms/step - loss: 0.8029 - acc: 0.9522 - val_loss: 1.1224 - val_acc: 0.8030\n",
      "Epoch 54/60\n",
      "607/607 [==============================] - 2s 3ms/step - loss: 0.8035 - acc: 0.9308 - val_loss: 1.0807 - val_acc: 0.8030\n",
      "Epoch 55/60\n",
      "607/607 [==============================] - 2s 3ms/step - loss: 0.7526 - acc: 0.9473 - val_loss: 1.0850 - val_acc: 0.7931\n",
      "Epoch 56/60\n",
      "607/607 [==============================] - 2s 3ms/step - loss: 0.7419 - acc: 0.9341 - val_loss: 1.1514 - val_acc: 0.7931\n",
      "Epoch 57/60\n",
      "607/607 [==============================] - 2s 3ms/step - loss: 0.7252 - acc: 0.9374 - val_loss: 1.1135 - val_acc: 0.7980\n",
      "Epoch 58/60\n",
      "607/607 [==============================] - 2s 3ms/step - loss: 0.7130 - acc: 0.9390 - val_loss: 1.0429 - val_acc: 0.7980\n",
      "Epoch 59/60\n",
      "607/607 [==============================] - 2s 3ms/step - loss: 0.6828 - acc: 0.9390 - val_loss: 1.0170 - val_acc: 0.7980\n",
      "Epoch 60/60\n",
      "607/607 [==============================] - 2s 3ms/step - loss: 0.6464 - acc: 0.9572 - val_loss: 1.0361 - val_acc: 0.8079\n"
     ]
    },
    {
     "data": {
      "image/png": "[encoded data removed]",
      "text/plain": [
       "<matplotlib.figure.Figure at 0x7f3cf82f6d90>"
      ]
     },
     "metadata": {},
     "output_type": "display_data"
    },
    {
     "data": {
      "image/png": "[encoded data removed]",
      "text/plain": [
       "<matplotlib.figure.Figure at 0x7f3cf3230750>"
      ]
     },
     "metadata": {},
     "output_type": "display_data"
    }
   ],
   "source": [
    "hidden_units = 100\n",
    "kernel_size = 3\n",
    "dropout = .8\n",
    "optim = Adam(lr=0.0001)\n",
    "epochs = 60\n",
    "batch = 20\n",
    "\n",
    "model = Sequential()\n",
    "model.add(Conv1D(hidden_units, kernel_size, activation='relu', input_shape=(trainX.shape[1], 1), kernel_regularizer=l1_l2(.001)))\n",
    "model.add(Conv1D(hidden_units, kernel_size, activation='relu', kernel_regularizer=l1_l2(.001)))\n",
    "model.add(MaxPooling1D(kernel_size))\n",
    "model.add(Dropout(dropout))\n",
    "model.add(Conv1D(hidden_units, kernel_size, activation='relu', kernel_regularizer=l1_l2(.001)))\n",
    "model.add(Conv1D(hidden_units, kernel_size, activation='relu', kernel_regularizer=l1_l2(.001)))\n",
    "model.add(MaxPooling1D(kernel_size))\n",
    "model.add(Flatten())\n",
    "model.add(Dropout(dropout))\n",
    "model.add(Dense(1, activation='sigmoid'))\n",
    "\n",
    "model.compile(optimizer=optim, loss='binary_crossentropy', metrics=['accuracy'])\n",
    "\n",
    "history = model.fit(trainX, trainY, epochs=epochs, batch_size=batch, validation_data=(valX, valY))\n",
    "\n",
    "plot_history(history)"
   ]
  },
  {
   "cell_type": "markdown",
   "metadata": {},
   "source": [
    "The highest accuracy we are getting is 84%. Let's set up a grid search to find the best hyperparameters. "
   ]
  },
  {
   "cell_type": "code",
   "execution_count": 35,
   "metadata": {},
   "outputs": [],
   "source": [
    "from keras.wrappers.scikit_learn import KerasClassifier\n",
    "from sklearn.model_selection import GridSearchCV\n",
    "\n",
    "def make_model_compile(hidden_units, kernel_size, dropout, optim, epochs, batch, reg):\n",
    "    model = Sequential()\n",
    "    model.add(Conv1D(hidden_units, kernel_size, activation='relu', input_shape=(trainX.shape[1], 1), kernel_regularizer=l1_l2(reg)))\n",
    "    model.add(Conv1D(hidden_units, kernel_size, activation='relu', kernel_regularizer=l1_l2(reg)))\n",
    "    model.add(MaxPooling1D(kernel_size))\n",
    "    model.add(Dropout(dropout))\n",
    "    model.add(Conv1D(hidden_units, kernel_size, activation='relu', kernel_regularizer=l1_l2(reg)))\n",
    "    model.add(Conv1D(hidden_units, kernel_size, activation='relu', kernel_regularizer=l1_l2(reg)))\n",
    "    model.add(Flatten())\n",
    "    model.add(Dropout(dropout))\n",
    "    model.add(Dense(1, activation='sigmoid'))\n",
    "\n",
    "    model.compile(optimizer=optim, loss='binary_crossentropy', metrics=['accuracy'])\n"
   ]
  },
  {
   "cell_type": "code",
   "execution_count": 38,
   "metadata": {},
   "outputs": [],
   "source": [
    "my_classifier = KerasClassifier(make_model_compile)\n",
    "\n",
    "#define the grid search \n",
    "validator = GridSearchCV(my_classifier,\n",
    "                         param_grid={'hidden_units': [32, 64],\n",
    "                                     'kernel_size': [3,5]\n",
    "                                     'dropout_prop': [0.3, 0.5, 0.7], \n",
    "                                     'optim': [RMSprop(lr=.01), RMSprop(lr=.001), RMSprop(lr=.0001),RMSprop(lr=.00001)], \n",
    "                                     'epochs':[10,20,40], \n",
    "                                     'batch': [10,15,20],\n",
    "                                     'reg': [0.01,0.001,0.0001]},\n",
    "                                    scoring='neg_log_loss')\n",
    "# validator.fit(trainvalX, trainvalY) "
   ]
  },
  {
   "cell_type": "code",
   "execution_count": null,
   "metadata": {},
   "outputs": [],
   "source": [
    "print('The parameters of the best model are: ')\n",
    "print(validator.best_params_)"
   ]
  },
  {
   "cell_type": "code",
   "execution_count": null,
   "metadata": {},
   "outputs": [],
   "source": [
    "# The optimizer is an object, we need to evaluate it\n",
    "from keras.backend import eval\n",
    "print eval(validator.best_params_['optim'].lr)"
   ]
  },
  {
   "cell_type": "code",
   "execution_count": null,
   "metadata": {},
   "outputs": [],
   "source": []
  },
  {
   "cell_type": "code",
   "execution_count": null,
   "metadata": {},
   "outputs": [],
   "source": []
  },
  {
   "cell_type": "code",
   "execution_count": null,
   "metadata": {},
   "outputs": [],
   "source": []
  },
  {
   "cell_type": "markdown",
   "metadata": {},
   "source": [
    "Please continue on to [2D CNN - Gender Classification](https://github.com/kitchell/DeepLearningTutorial_LBspectrum/blob/master/2D%20CNN%20with%20LB%20spectrum.ipynb)\n"
   ]
  },
  {
   "cell_type": "code",
   "execution_count": null,
   "metadata": {},
   "outputs": [],
   "source": []
  }
 ],
 "metadata": {
  "kernelspec": {
   "display_name": "Python [conda env:tf1.4py2.7]",
   "language": "python",
   "name": "conda-env-tf1.4py2.7-py"
  },
  "language_info": {
   "codemirror_mode": {
    "name": "ipython",
    "version": 2
   },
   "file_extension": ".py",
   "mimetype": "text/x-python",
   "name": "python",
   "nbconvert_exporter": "python",
   "pygments_lexer": "ipython2",
   "version": "2.7.14"
  }
 },
 "nbformat": 4,
 "nbformat_minor": 2
}
